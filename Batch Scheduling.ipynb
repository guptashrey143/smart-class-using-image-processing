{
 "cells": [
  {
   "cell_type": "code",
   "execution_count": 56,
   "metadata": {},
   "outputs": [],
   "source": [
    "import pandas as pd\n",
    "import datetime"
   ]
  },
  {
   "cell_type": "code",
   "execution_count": 54,
   "metadata": {},
   "outputs": [],
   "source": [
    "## Making the batch schedule for a specific classroom\n",
    "\n",
    "data = {'Day':['Saturday', 'Saturday'] ,\n",
    "        'Start Time':['020:00:00','5:00:00'],\n",
    "        'End Time':['22:00:00','7:50:00'],\n",
    "        'Batch':[['B13','B1'],['B2']]}\n",
    "\n",
    "df = pd.DataFrame(data)\n",
    "df.to_csv('time chart.csv')\n",
    "    "
   ]
  },
  {
   "cell_type": "code",
   "execution_count": 65,
   "metadata": {},
   "outputs": [],
   "source": [
    "def add_new_class():\n",
    "    day = input(\"Enter day:\")\n",
    "    start_time = input(\"Enter Start TIme:\")\n",
    "    end_time = input(\"Enter Class End Time:\")\n",
    "    n = int(input(\"Enter no of batches attending:\"))\n",
    "    list = []\n",
    "    for i in range(n):\n",
    "        batch = input(\"Enter batch:\")\n",
    "        list.append(batch)\n",
    "    df = pd.read_csv('time chart.csv')\n",
    "    df = df.iloc[:,1:]\n",
    "    df = df.append(dict(zip(df.columns,[day, start_time, end_time, list])), ignore_index=True)\n",
    "    df.to_csv('time chart.csv')"
   ]
  },
  {
   "cell_type": "code",
   "execution_count": 66,
   "metadata": {},
   "outputs": [
    {
     "name": "stdout",
     "output_type": "stream",
     "text": [
      "Enter day:haufhs\n",
      "Enter Start TIme:2816\n",
      "Enter Class End Time:18736\n",
      "Enter no of batches attending:2\n",
      "Enter batch:B13\n",
      "Enter batch:B2\n"
     ]
    }
   ],
   "source": [
    "add_new_class()"
   ]
  }
 ],
 "metadata": {
  "kernelspec": {
   "display_name": "Python 3",
   "language": "python",
   "name": "python3"
  },
  "language_info": {
   "codemirror_mode": {
    "name": "ipython",
    "version": 3
   },
   "file_extension": ".py",
   "mimetype": "text/x-python",
   "name": "python",
   "nbconvert_exporter": "python",
   "pygments_lexer": "ipython3",
   "version": "3.8.3"
  }
 },
 "nbformat": 4,
 "nbformat_minor": 4
}

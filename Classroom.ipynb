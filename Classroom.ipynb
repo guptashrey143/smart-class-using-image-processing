{
 "cells": [
  {
   "cell_type": "code",
   "execution_count": 1,
   "metadata": {},
   "outputs": [],
   "source": [
    "import cv2\n",
    "import pandas as pd\n",
    "import datetime\n",
    "import numpy as np\n",
    "from PIL import Image\n",
    "import os"
   ]
  },
  {
   "cell_type": "code",
   "execution_count": 33,
   "metadata": {},
   "outputs": [],
   "source": [
    "## Calling the Classifiers\n",
    "\n",
    "faceCascade = cv2.CascadeClassifier(\"haarcascade_frontalface_default.xml\")\n",
    "\n",
    "clf = cv2.face.LBPHFaceRecognizer_create()\n",
    "clf.read(\"classifier.yml\")"
   ]
  },
  {
   "cell_type": "code",
   "execution_count": 61,
   "metadata": {},
   "outputs": [],
   "source": [
    "## Function to return the name of student based on the enrollment no\n",
    "def user_name(user_id):\n",
    "    df = pd.read_csv('student_data.csv')\n",
    "    is_class, batch_list = return_batch_list()\n",
    "    if is_class:\n",
    "        for i in df.index:\n",
    "            if df['Id'][i] == user_id:\n",
    "                name = df['Name'][i]\n",
    "#                 return name\n",
    "                if does_batch_belong(batch_list,df['Batch'][i]):\n",
    "                    name = df['Name'][i]\n",
    "                    write_present(user_id,name)\n",
    "                    return name\n",
    "                else:\n",
    "                    return 'Wrong Batch'\n",
    "    else:\n",
    "        return 'no_class'"
   ]
  },
  {
   "cell_type": "code",
   "execution_count": 49,
   "metadata": {},
   "outputs": [],
   "source": [
    "## Marking the boundary of face in an image\n",
    "\n",
    "def recognizer_boundary(img, classifier, scaleFactor, minNeighbours, color, clf):\n",
    "    gray_img = cv2.cvtColor(img, cv2.COLOR_BGR2GRAY)\n",
    "    features = classifier.detectMultiScale(gray_img, scaleFactor, minNeighbours)\n",
    "    coords = []\n",
    "    for (x, y, w, h)in features:\n",
    "        cv2.rectangle(img, (x,y),(x+w,y+h), color, 2)\n",
    "        user_id, _ = clf.predict(gray_img[y:y+h, x:x+w])\n",
    "        name = user_name(user_id)\n",
    "#         print(name)\n",
    "        cv2.putText(img, name, (x,y),cv2.FONT_HERSHEY_SIMPLEX, 0.8, color, 1, cv2.LINE_AA)\n",
    "        coords = [x,y,w,h]\n",
    "    return coords\n"
   ]
  },
  {
   "cell_type": "code",
   "execution_count": 7,
   "metadata": {},
   "outputs": [],
   "source": [
    "## Function to call the recognizer function\n",
    "def recognize(img, clf, faceCascade):\n",
    "    color = {\"blue\":(255,0,0), \"red\":(0,0,255), \"green\":(0,255,0), \"mix\":(128,0,129)}\n",
    "    coords = recognizer_boundary(img, faceCascade, 1.1, 10, color[\"green\"], clf)\n",
    "    return img"
   ]
  },
  {
   "cell_type": "code",
   "execution_count": 72,
   "metadata": {},
   "outputs": [],
   "source": [
    "## Function to recognize the face of the student whose image has been captured\n",
    "\n",
    "VideoCapture = cv2.VideoCapture(0)\n",
    "\n",
    "while True:\n",
    "    _,img = VideoCapture.read()\n",
    "    img2 = recognize(img, clf, faceCascade)\n",
    "    cv2.imshow(\"camera\",img2)\n",
    "    if cv2.waitKey(1) & 0xFF == ord('e'):\n",
    "        break\n",
    "\n",
    "VideoCapture.release()\n",
    "cv2.destroyAllWindows()"
   ]
  },
  {
   "cell_type": "code",
   "execution_count": 3,
   "metadata": {},
   "outputs": [],
   "source": [
    "def is_class_time(weekday,st,et):\n",
    "    \n",
    "    x = datetime.datetime.now()\n",
    "    c_weekday = x.strftime(\"%A\")\n",
    "    \n",
    "   \n",
    "    time = x.strftime(\"%T\")\n",
    "    c_hour = int(time.split(\":\")[0])\n",
    "    c_min = int(time.split(\":\")[1])\n",
    "    \n",
    "    \n",
    "    st_hour = int(st.split(\":\")[0])\n",
    "    st_min = int(st.split(\":\")[1])\n",
    "    \n",
    "    \n",
    "    et_hour = int(et.split(\":\")[0])\n",
    "    et_min = int(et.split(\":\")[1])\n",
    "    \n",
    "    \n",
    "    if(weekday == c_weekday):\n",
    "        \n",
    "        if (c_hour >= st_hour) or ((c_hour == st_hour) & (c_min >= st_min)):\n",
    "            \n",
    "            if (c_hour < et_hour) or ((c_hour >= et_hour) & (c_min < et_min)):\n",
    "                \n",
    "                return True\n",
    "            \n",
    "            else:\n",
    "                \n",
    "                return False\n",
    "            \n",
    "        else:\n",
    "            \n",
    "            return False\n",
    "        \n",
    "    else:\n",
    "        \n",
    "        return False"
   ]
  },
  {
   "cell_type": "code",
   "execution_count": 57,
   "metadata": {},
   "outputs": [],
   "source": [
    "def return_batch_list():\n",
    "    \n",
    "    df = pd.read_csv('trial.csv')\n",
    "    \n",
    "    check = 0\n",
    "    pos = 0\n",
    "    \n",
    "    for i in df.index:\n",
    "        if(is_class_time(df['Day'][i],df['Start Time'][i],df['End Time'][i])):\n",
    "            check = 1\n",
    "            pos = i\n",
    "            break\n",
    "    \n",
    "    if check ==1:    \n",
    "        return True, df['Batch'][pos]\n",
    "    else:\n",
    "        return False,''\n",
    "        "
   ]
  },
  {
   "cell_type": "code",
   "execution_count": 12,
   "metadata": {},
   "outputs": [],
   "source": [
    "def does_batch_belong(current_batches, stu_batch):\n",
    "    batch = \"'\" + stu_batch +\"'\"\n",
    "    if current_batches.find(batch) != -1:\n",
    "        return True\n",
    "    else:\n",
    "        return False\n",
    "    "
   ]
  },
  {
   "cell_type": "code",
   "execution_count": null,
   "metadata": {},
   "outputs": [],
   "source": []
  },
  {
   "cell_type": "code",
   "execution_count": 70,
   "metadata": {},
   "outputs": [],
   "source": [
    "def write_present(enroll, name):\n",
    "    present_list = []\n",
    "    time = datetime.datetime.now()\n",
    "    entrytime = time.strftime('%T')\n",
    "    df = pd.read_csv('present_students.csv')\n",
    "    df = df.iloc[:,1:]\n",
    "    for i in df.index:\n",
    "        present_list.append(df['Id'][i])\n",
    "    check = 0\n",
    "    for i in present_list:\n",
    "        if i == enroll:\n",
    "            check = 1\n",
    "            break\n",
    "    if check == 0:\n",
    "        df = df.append(dict(zip(df.columns,[enroll, name, entrytime])), ignore_index=True)\n",
    "        df.to_csv('present_students.csv')"
   ]
  }
 ],
 "metadata": {
  "kernelspec": {
   "display_name": "Python 3",
   "language": "python",
   "name": "python3"
  },
  "language_info": {
   "codemirror_mode": {
    "name": "ipython",
    "version": 3
   },
   "file_extension": ".py",
   "mimetype": "text/x-python",
   "name": "python",
   "nbconvert_exporter": "python",
   "pygments_lexer": "ipython3",
   "version": "3.8.3"
  }
 },
 "nbformat": 4,
 "nbformat_minor": 4
}

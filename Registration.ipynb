{
 "cells": [
  {
   "cell_type": "code",
   "execution_count": 2,
   "metadata": {},
   "outputs": [],
   "source": [
    "import cv2\n",
    "import pandas as pd\n",
    "import numpy as np\n",
    "from PIL import Image\n",
    "import os"
   ]
  },
  {
   "cell_type": "code",
   "execution_count": 13,
   "metadata": {},
   "outputs": [],
   "source": [
    "## Calling the Classifiers\n",
    "\n",
    "faceCascade = cv2.CascadeClassifier(\"haarcascade_frontalface_default.xml\")\n",
    "\n",
   ]
  },
  {
   "cell_type": "code",
   "execution_count": 4,
   "metadata": {},
   "outputs": [],
   "source": [
    "## Function to train a custom Classifier based on the dataset collected on registration\n",
    "\n",
    "def train_classifier(data_dir):\n",
    "    path = [os.path.join(data_dir, f) for f in os.listdir(data_dir)]\n",
    "    faces = []\n",
    "    ids = []\n",
    "    \n",
    "    for image in path:\n",
    "        img = Image.open(image).convert('L')\n",
    "        imageNp = np.array(img, 'uint8')\n",
    "        id = int(os.path.split(image)[1].split(\".\")[1])\n",
    "        \n",
    "        faces.append(imageNp)\n",
    "        ids.append(id)\n",
    "        \n",
    "    ids = np.array(ids)\n",
    "    \n",
    "    clf = cv2.face.LBPHFaceRecognizer_create()\n",
    "    clf.train(faces, ids)\n",
    "    clf.write(\"classifier.yml\")"
   ]
  },
  {
   "cell_type": "code",
   "execution_count": 6,
   "metadata": {},
   "outputs": [],
   "source": [
    "## Function to check if a given frame contains a face or not and if it does add it to the dataset\n",
    "\n",
    "def generator(img, faceCascade, img_id, user_id):\n",
    "    color = {\"blue\":(255,0,0), \"red\":(0,0,255), \"green\":(0,255,0), \"mix\":(128,0,129)}\n",
    "    coords = detector(img,faceCascade, 1.1, 10, color['green'], 'face')\n",
    "    \n",
    "    if len(coords) == 4:\n",
    "        roi_img = img[coords[1]: coords[1] + coords[3], coords[0]: coords[0] + coords[3]]\n",
    "        dataset_generator(roi_img,user_id, img_id,'B1' )\n",
    "    \n",
    "    return img"
   ]
  },
  {
   "cell_type": "code",
   "execution_count": 30,
   "metadata": {},
   "outputs": [],
   "source": [
    "##Function to store the image in the dataset\n",
    "\n",
    "def dataset_generator(img, id, img_id,batch):\n",
    "    cv2.imwrite(\"Data/user.\" + str(id) + \".\" + str(img_id) + \".jpg\", img)"
   ]
  },
  {
   "cell_type": "code",
   "execution_count": 8,
   "metadata": {},
   "outputs": [],
   "source": [
    "##Function to find the image on basis of classifier and return its coordinates\n",
    "\n",
    "def detector(img, classifier, scaleFactor, minNeighbours, color,txt):\n",
    "    gray_img = cv2.cvtColor(img, cv2.COLOR_BGR2GRAY)\n",
    "    features = classifier.detectMultiScale(gray_img, scaleFactor, minNeighbours)\n",
    "    coords = []\n",
    "    for (x, y, w, h)in features:\n",
    "        cv2.rectangle(img, (x,y),(x+w,y+h), color, 2)\n",
    "        cv2.putText(img, txt, (x,y),cv2.FONT_HERSHEY_SIMPLEX, 0.8, color, 1, cv2.LINE_AA)\n",
    "        coords = [x,y,w,h]\n",
    "    return coords"
   ]
  },
  {
   "cell_type": "code",
   "execution_count": 37,
   "metadata": {},
   "outputs": [
    {
     "name": "stdout",
     "output_type": "stream",
     "text": [
      "Enter Enrollment No.:2\n",
      "Enter Name:Puru\n",
      "Enter Batch:B2\n"
     ]
    }
   ],
   "source": [
    "## Creating the dataset of the images of students when they get registered\n",
    "\n",
    "VideoCapture = cv2.VideoCapture(0)\n",
    "user_id,name,batch = get_data()\n",
    "write_data(user_id,name,batch,students_registered)\n",
    "students_registered+=1\n",
    "img_id = 0\n",
    "while True:\n",
    "    _,img = VideoCapture.read()\n",
    "    \n",
    "    img2 = generator(img, faceCascade,img_id,user_id)\n",
    "\n",
    "    img_id+=1\n",
    "    cv2.imshow(\"camera\",img2)\n",
    "    if cv2.waitKey(1) & 0xFF == ord('e'):\n",
    "        break\n",
    "\n",
    "VideoCapture.release()\n",
    "cv2.destroyAllWindows()\n"
   ]
  },
  {
   "cell_type": "code",
   "execution_count": 34,
   "metadata": {},
   "outputs": [],
   "source": [
    "##Variable to store the no of students registered\n",
    "\n",
    "students_registered = 0"
   ]
  },
  {
   "cell_type": "code",
   "execution_count": 36,
   "metadata": {},
   "outputs": [
    {
     "name": "stdout",
     "output_type": "stream",
     "text": [
      "1\n"
     ]
    }
   ],
   "source": [
    "print(students_registered)"
   ]
  },
  {
   "cell_type": "code",
   "execution_count": 10,
   "metadata": {},
   "outputs": [],
   "source": [
    "## Function to take the details of studets from the user\n",
    "\n",
    "def get_data():\n",
    "    enroll = input(\"Enter Enrollment No.:\")\n",
    "    name = input(\"Enter Name:\")\n",
    "    batch = input(\"Enter Batch:\")\n",
    "    return enroll,name,batch"
   ]
  },
  {
   "cell_type": "code",
   "execution_count": 22,
   "metadata": {},
   "outputs": [],
   "source": [
    "## Function to write the details of the students in a csv file\n",
    "\n",
    "def write_data(enroll, name, batch, i):\n",
    "    if i > 0:\n",
    "        df = pd.read_csv('student_data.csv')\n",
    "        df = df.iloc[:,1:]\n",
    "        df = df.append(dict(zip(df.columns,[enroll, name, batch])), ignore_index=True)\n",
    "        df.to_csv('student_data.csv')\n",
    "        \n",
    "    else:\n",
    "        data = {'Id': [enroll],'Name': [name],'Batch': [batch]}\n",
    "        df = pd.DataFrame(data)\n",
    "        df.to_csv('student_data.csv')\n",
    "        "
   ]
  },
  {
   "cell_type": "code",
   "execution_count": 38,
   "metadata": {},
   "outputs": [],
   "source": [
    "train_classifier('Data')"
   ]
  }
 ],
 "metadata": {
  "kernelspec": {
   "display_name": "Python 3",
   "language": "python",
   "name": "python3"
  },
  "language_info": {
   "codemirror_mode": {
    "name": "ipython",
    "version": 3
   },
   "file_extension": ".py",
   "mimetype": "text/x-python",
   "name": "python",
   "nbconvert_exporter": "python",
   "pygments_lexer": "ipython3",
   "version": "3.8.3"
  }
 },
 "nbformat": 4,
 "nbformat_minor": 4
}
